{
 "cells": [
  {
   "cell_type": "code",
   "execution_count": 1,
   "id": "163cb14e-1816-41f5-a6a8-ec88433d9127",
   "metadata": {},
   "outputs": [],
   "source": [
    "#!pip install wikipedia langchain BeautifulSoup\n"
   ]
  },
  {
   "cell_type": "code",
   "execution_count": 1,
   "id": "8bc8f941-6cfa-4dc2-84b3-63cf85236256",
   "metadata": {},
   "outputs": [],
   "source": [
    "from langchain import OpenAI\n",
    "from langchain.agents import AgentType, initialize_agent\n",
    "from langchain.agents import Tool, tool\n",
    "from langchain import agents\n",
    "from bs4 import BeautifulSoup\n",
    "import langchain\n",
    "langchain.debug = False\n",
    "import os\n",
    "import requests\n",
    "\n",
    "os.environ['OPENAI_API_KEY'] = 'YOUR_VALID_KEY'"
   ]
  },
  {
   "cell_type": "code",
   "execution_count": 5,
   "id": "5933f44a-9c8d-4ac4-9b93-0d7895a582ad",
   "metadata": {},
   "outputs": [],
   "source": [
    "import requests\n",
    "name = 'methanol'\n",
    "r = requests.get('https://pubchem.ncbi.nlm.nih.gov/rest/pug/compound/name/' + name +'/cids/JSON')\n",
    "response = r.json()\n",
    "cid = response[\"IdentifierList\"][\"CID\"][0]"
   ]
  },
  {
   "cell_type": "code",
   "execution_count": 6,
   "id": "737f33b7-79f2-4c83-bf8c-3cb522dad8d9",
   "metadata": {},
   "outputs": [
    {
     "data": {
      "text/plain": [
       "'148.3 °F at 760 mmHg (NTP, 1992)'"
      ]
     },
     "execution_count": 6,
     "metadata": {},
     "output_type": "execute_result"
    }
   ],
   "source": [
    "data = requests.get(f\"https://pubchem.ncbi.nlm.nih.gov/rest/pug_view/data/compound/{cid}/xml\")\n",
    "html = BeautifulSoup(data.content, \"xml\")\n",
    "bp_tag = html.find(name='TOCHeading', string='Boiling Point')\n",
    "bp_tag.find_next_sibling('Information').find(name='String').string"
   ]
  },
  {
   "cell_type": "code",
   "execution_count": 7,
   "id": "eeb25ef3-1be1-4eaf-bfa7-d5bfeae09c09",
   "metadata": {},
   "outputs": [
    {
     "data": {
      "text/plain": [
       "'Exposure to excessive vapor causes eye irritation, head- ache, fatigue and drowsiness. High concentrations can produce central nervous system depression and optic nerve damage. 50,000 ppm will probably cause death in 1 to 2 hrs. Can be absorbed through skin. Swallowing may cause death or eye damage. (USCG, 1999)'"
      ]
     },
     "execution_count": 7,
     "metadata": {},
     "output_type": "execute_result"
    }
   ],
   "source": [
    "safety_tag = html.find(name='TOCHeading', string='Health Hazards')\n",
    "safety_tag.find_next_sibling('Information').find(name='String').string"
   ]
  },
  {
   "cell_type": "code",
   "execution_count": 8,
   "id": "ff6fb887-9f6e-4997-a082-faf6fa79025c",
   "metadata": {},
   "outputs": [],
   "source": [
    "def find_property(compound, property):\n",
    "    '''This function queries the compound from pubchecm and obtains property of the compund.\n",
    "    example use: find_property('KOH', 'Melting Point) '''\n",
    "    try:\n",
    "        # query the PubChem database\n",
    "        r = requests.get('https://pubchem.ncbi.nlm.nih.gov/rest/pug/compound/name/' + compound +'/cids/JSON')\n",
    "        response = r.json()\n",
    "        cid = response[\"IdentifierList\"][\"CID\"][0]\n",
    "        data = requests.get(f\"https://pubchem.ncbi.nlm.nih.gov/rest/pug_view/data/compound/{cid}/xml\")\n",
    "        html = BeautifulSoup(data.content, \"xml\")\n",
    "        tag = html.find(name='TOCHeading', string=property.title()).find_next_sibling('Information').find(name='String').string\n",
    "        return tag\n",
    "    except:\n",
    "        print(f\"Could not find the {property} for {compound} on PubChem.\")\n",
    "\n",
    "from langchain.tools import StructuredTool\n",
    "tools = [StructuredTool.from_function(find_property)]"
   ]
  },
  {
   "cell_type": "code",
   "execution_count": 60,
   "id": "9c5cb91d-c9aa-4d2f-9dab-7094f7e27e40",
   "metadata": {},
   "outputs": [],
   "source": [
    "from langchain.memory import ConversationBufferMemory\n",
    "llm = OpenAI(\n",
    "        model_name='gpt-4',\n",
    "        temperature=0,\n",
    "    )\n",
    "\n",
    "memory = ConversationBufferMemory()\n",
    "agent = initialize_agent(tools, llm, agent=AgentType.STRUCTURED_CHAT_ZERO_SHOT_REACT_DESCRIPTION,\n",
    "                         verbose=True, memory=memory,  \n",
    "    )"
   ]
  },
  {
   "cell_type": "code",
   "execution_count": 61,
   "id": "2641b448-0df9-4d3f-ba8d-8c192d19d2dd",
   "metadata": {},
   "outputs": [
    {
     "name": "stdout",
     "output_type": "stream",
     "text": [
      "\n",
      "\n",
      "\u001b[1m> Entering new AgentExecutor chain...\u001b[0m\n",
      "\u001b[32;1m\u001b[1;3mAction:\n",
      "```\n",
      "{\n",
      "  \"action\": \"find_property\",\n",
      "  \"action_input\": {\n",
      "    \"compound\": \"methanol\",\n",
      "    \"property\": \"Health Hazards\"\n",
      "  }\n",
      "}\n",
      "```\u001b[0m\n",
      "Observation: \u001b[36;1m\u001b[1;3mExposure to excessive vapor causes eye irritation, head- ache, fatigue and drowsiness. High concentrations can produce central nervous system depression and optic nerve damage. 50,000 ppm will probably cause death in 1 to 2 hrs. Can be absorbed through skin. Swallowing may cause death or eye damage. (USCG, 1999)\u001b[0m\n",
      "Thought:\u001b[32;1m\u001b[1;3mThe health hazards of methanol are quite severe. Exposure can cause eye irritation, headaches, fatigue, and drowsiness. High concentrations can lead to central nervous system depression and optic nerve damage. It can be fatal in high concentrations and can be absorbed through the skin. Swallowing methanol can also cause death or eye damage. Given these hazards, it would be unsafe to proceed with the experiment without proper safety measures. Now, I will find the boiling point of methanol to provide complete information. \n",
      "Action:\n",
      "```\n",
      "{\n",
      "  \"action\": \"find_property\",\n",
      "  \"action_input\": {\n",
      "    \"compound\": \"methanol\",\n",
      "    \"property\": \"Boiling Point\"\n",
      "  }\n",
      "}\n",
      "```\u001b[0m\n",
      "Observation: \u001b[36;1m\u001b[1;3m148.3 °F at 760 mmHg (NTP, 1992)\u001b[0m\n",
      "Thought:\u001b[32;1m\u001b[1;3mThe boiling point of methanol is 148.3 °F at 760 mmHg. Given the health hazards associated with methanol, it is important to handle this compound with care, especially when heating it to its boiling point. Proper safety measures should be in place to prevent exposure. \n",
      "Action:\n",
      "```\n",
      "{\n",
      "  \"action\": \"Final Answer\",\n",
      "  \"action_input\": \"Methanol has a boiling point of 148.3 °F at 760 mmHg. However, it has severe health hazards. Exposure can cause eye irritation, headaches, fatigue, and drowsiness. High concentrations can lead to central nervous system depression and optic nerve damage. It can be fatal in high concentrations and can be absorbed through the skin. Swallowing methanol can also cause death or eye damage. Given these hazards, it would be unsafe to proceed with the experiment without proper safety measures.\"\n",
      "}\n",
      "```\u001b[0m\n",
      "\n",
      "\u001b[1m> Finished chain.\u001b[0m\n"
     ]
    },
    {
     "data": {
      "text/plain": [
       "'Methanol has a boiling point of 148.3 °F at 760 mmHg. However, it has severe health hazards. Exposure can cause eye irritation, headaches, fatigue, and drowsiness. High concentrations can lead to central nervous system depression and optic nerve damage. It can be fatal in high concentrations and can be absorbed through the skin. Swallowing methanol can also cause death or eye damage. Given these hazards, it would be unsafe to proceed with the experiment without proper safety measures.'"
      ]
     },
     "execution_count": 61,
     "metadata": {},
     "output_type": "execute_result"
    }
   ],
   "source": [
    "agent.run(input=\"Experiment: Heat up methanol up to its boiling point. Check for Health Hazards of the compound and stop the experiment if unsafe.\")"
   ]
  }
 ],
 "metadata": {
  "kernelspec": {
   "display_name": "agent",
   "language": "python",
   "name": "agent"
  },
  "language_info": {
   "codemirror_mode": {
    "name": "ipython",
    "version": 3
   },
   "file_extension": ".py",
   "mimetype": "text/x-python",
   "name": "python",
   "nbconvert_exporter": "python",
   "pygments_lexer": "ipython3",
   "version": "3.9.17"
  }
 },
 "nbformat": 4,
 "nbformat_minor": 5
}
