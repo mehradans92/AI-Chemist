{
 "cells": [
  {
   "cell_type": "code",
   "execution_count": 1,
   "id": "163cb14e-1816-41f5-a6a8-ec88433d9127",
   "metadata": {},
   "outputs": [],
   "source": [
    "#!pip install wikipedia langchain BeautifulSoup"
   ]
  },
  {
   "cell_type": "code",
   "execution_count": 2,
   "id": "8bc8f941-6cfa-4dc2-84b3-63cf85236256",
   "metadata": {},
   "outputs": [],
   "source": [
    "from langchain import OpenAI\n",
    "from langchain.agents import AgentType, initialize_agent\n",
    "from langchain.agents import Tool, tool\n",
    "from langchain import agents\n",
    "from bs4 import BeautifulSoup\n",
    "import langchain\n",
    "langchain.debug = False\n",
    "import os\n",
    "import requests\n",
    "\n",
    "os.environ['OPENAI_API_KEY'] = 'YOUR_VALID_OPENAI_KEY'"
   ]
  },
  {
   "cell_type": "code",
   "execution_count": 3,
   "id": "ff6fb887-9f6e-4997-a082-faf6fa79025c",
   "metadata": {},
   "outputs": [],
   "source": [
    "# defining a tool that can interact with PubChem and obtain materials properties\n",
    "def find_property(compound, property):\n",
    "    '''This function queries the compound from pubchecm and obtains property of the compund.\n",
    "    Use this tool if you do not know a property of a compound.\n",
    "    example use: find_property('KOH', 'Melting Point) '''\n",
    "    try:\n",
    "        # query the PubChem database\n",
    "        r = requests.get('https://pubchem.ncbi.nlm.nih.gov/rest/pug/compound/name/' + compound +'/cids/JSON')\n",
    "        response = r.json()\n",
    "        cid = response[\"IdentifierList\"][\"CID\"][0]\n",
    "        data = requests.get(f\"https://pubchem.ncbi.nlm.nih.gov/rest/pug_view/data/compound/{cid}/xml\")\n",
    "        html = BeautifulSoup(data.content, \"xml\")\n",
    "        tag = html.find(name='TOCHeading', string=property.title()).find_next_sibling('Information').find(name='String').string\n",
    "        return tag\n",
    "    except:\n",
    "        print(f\"Could not find the {property} for {compound} on PubChem.\")\n",
    "\n",
    "from langchain.tools import StructuredTool\n",
    "tools = [StructuredTool.from_function(find_property)]"
   ]
  },
  {
   "cell_type": "code",
   "execution_count": 4,
   "id": "9c5cb91d-c9aa-4d2f-9dab-7094f7e27e40",
   "metadata": {},
   "outputs": [
    {
     "name": "stderr",
     "output_type": "stream",
     "text": [
      "C:\\Users\\mehra\\anaconda3\\envs\\agent\\lib\\site-packages\\langchain\\llms\\openai.py:202: UserWarning: You are trying to use a chat model. This way of initializing it is no longer supported. Instead, please use: `from langchain.chat_models import ChatOpenAI`\n",
      "  warnings.warn(\n",
      "C:\\Users\\mehra\\anaconda3\\envs\\agent\\lib\\site-packages\\langchain\\llms\\openai.py:789: UserWarning: You are trying to use a chat model. This way of initializing it is no longer supported. Instead, please use: `from langchain.chat_models import ChatOpenAI`\n",
      "  warnings.warn(\n"
     ]
    }
   ],
   "source": [
    "from langchain.memory import ConversationBufferMemory\n",
    "llm = OpenAI(\n",
    "        model_name='gpt-4',\n",
    "        temperature=0,\n",
    "    )\n",
    "\n",
    "memory = ConversationBufferMemory()\n",
    "agent = initialize_agent(tools, llm, agent=AgentType.STRUCTURED_CHAT_ZERO_SHOT_REACT_DESCRIPTION,\n",
    "                         verbose=True, memory=memory,  \n",
    "    )"
   ]
  },
  {
   "cell_type": "code",
   "execution_count": 6,
   "id": "2641b448-0df9-4d3f-ba8d-8c192d19d2dd",
   "metadata": {},
   "outputs": [
    {
     "name": "stdout",
     "output_type": "stream",
     "text": [
      "\n",
      "\n",
      "\u001b[1m> Entering new AgentExecutor chain...\u001b[0m\n",
      "\u001b[32;1m\u001b[1;3mThe user wants to heat up methanol to its boiling point and wants to know the health hazards associated with methanol. Since I don't know the boiling point and health hazards of methanol, I will use the find_property tool to find this information.\n",
      "Action:\n",
      "```\n",
      "{\n",
      "  \"action\": \"find_property\",\n",
      "  \"action_input\": {\n",
      "    \"compound\": \"methanol\",\n",
      "    \"property\": \"Boiling Point\"\n",
      "  }\n",
      "}\n",
      "```\u001b[0m\n",
      "Observation: \u001b[36;1m\u001b[1;3m148.3 °F at 760 mmHg (NTP, 1992)\u001b[0m\n",
      "Thought:\u001b[32;1m\u001b[1;3mNow that I have the boiling point of methanol, I need to find out the health hazards associated with it. I will use the find_property tool again to find this information. \n",
      "Action:\n",
      "```\n",
      "{\n",
      "  \"action\": \"find_property\",\n",
      "  \"action_input\": {\n",
      "    \"compound\": \"methanol\",\n",
      "    \"property\": \"Health Hazards\"\n",
      "  }\n",
      "}\n",
      "```\u001b[0m\n",
      "Observation: \u001b[36;1m\u001b[1;3mExposure to excessive vapor causes eye irritation, head- ache, fatigue and drowsiness. High concentrations can produce central nervous system depression and optic nerve damage. 50,000 ppm will probably cause death in 1 to 2 hrs. Can be absorbed through skin. Swallowing may cause death or eye damage. (USCG, 1999)\u001b[0m\n",
      "Thought:\u001b[32;1m\u001b[1;3mGiven the health hazards associated with methanol, it's clear that it can be dangerous to handle, especially in an environment without a fume hood. High concentrations can cause central nervous system depression and optic nerve damage, and it can even be fatal. It can also be absorbed through the skin, and swallowing it may cause death or eye damage. Therefore, it's not safe to conduct this experiment without proper safety measures. I will inform the user about the boiling point of methanol and its health hazards, and advise them not to proceed with the experiment without a fume hood. \n",
      "Action:\n",
      "```\n",
      "{\n",
      "  \"action\": \"Final Answer\",\n",
      "  \"action_input\": \"The boiling point of methanol is 148.3 °F at 760 mmHg. However, methanol can be hazardous to health. Exposure to excessive vapor can cause eye irritation, headache, fatigue, and drowsiness. High concentrations can produce central nervous system depression and optic nerve damage. It can be fatal in high concentrations and can be absorbed through the skin. Swallowing may cause death or eye damage. Given these health hazards, it is not safe to conduct this experiment without a fume hood. Please ensure proper safety measures are in place before proceeding with such experiments.\"\n",
      "}\n",
      "```\u001b[0m\n",
      "\n",
      "\u001b[1m> Finished chain.\u001b[0m\n"
     ]
    },
    {
     "data": {
      "text/plain": [
       "'The boiling point of methanol is 148.3 °F at 760 mmHg. However, methanol can be hazardous to health. Exposure to excessive vapor can cause eye irritation, headache, fatigue, and drowsiness. High concentrations can produce central nervous system depression and optic nerve damage. It can be fatal in high concentrations and can be absorbed through the skin. Swallowing may cause death or eye damage. Given these health hazards, it is not safe to conduct this experiment without a fume hood. Please ensure proper safety measures are in place before proceeding with such experiments.'"
      ]
     },
     "execution_count": 6,
     "metadata": {},
     "output_type": "execute_result"
    }
   ],
   "source": [
    "agent.run(input=\"Experiment: Heat up methanol up to its boiling point.\\\n",
    "            Check for Health Hazards of the compound and stop the experiment if unsafe.\\\n",
    "            Experiment conditions: No fume hood available.\")"
   ]
  }
 ],
 "metadata": {
  "kernelspec": {
   "display_name": "agent",
   "language": "python",
   "name": "agent"
  },
  "language_info": {
   "codemirror_mode": {
    "name": "ipython",
    "version": 3
   },
   "file_extension": ".py",
   "mimetype": "text/x-python",
   "name": "python",
   "nbconvert_exporter": "python",
   "pygments_lexer": "ipython3",
   "version": "3.9.17"
  }
 },
 "nbformat": 4,
 "nbformat_minor": 5
}
